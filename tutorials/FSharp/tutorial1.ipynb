{
 "cells": [
  {
   "cell_type": "markdown",
   "metadata": {
    "dotnet_interactive": {
     "language": "fsharp"
    }
   },
   "source": [
    "# Setting Things Up\n",
    "\n",
    "To use TorchSharp, you need some packages from NuGet.\n",
    "\n",
    "First and foremost, you need to download the most recent version of the `TorchSharp` packaage at [https://www.nuget.org/packages/TorchSharp/](https://www.nuget.org/packages/TorchSharp/). That's the .NET bindings to libtorch, and it contains the .NET API. However, you also need one of several packages containing distributions of libtorch itself, the highly capable native-code engine behind PyTorch.\n",
    "\n",
    "Starting with version 0.93.4, there are bundled versions of these packages, which is what these tutorials rely on.\n",
    "\n",
    "The basic backend supports training and inference on CPUs, but there is also support for CUDA on Windows and Linux, for use on machines with compatible hardware. Using CUDA for training can speed things up by orders of magnitude, so it's important to use the right backend.\n",
    "\n",
    "These are the various libtorch packages:\n",
    "\n",
    "|Name|URL|Description|\n",
    "|-----|-----------------|--------------|\n",
    "|TorchSharp-cpu|https://www.nuget.org/packages/TorchSharp-cpu/|TorchSharp with only the CPU backend, which works on Windows, Linus, and MacOS|\n",
    "|TorchSharp-cuda-windows|https://www.nuget.org/packages/TorchSharp-cuda-windows/|A CPU backend with only Windows binaries|\n",
    "|TorchSharp-cuda-linux|https://www.nuget.org/packages//|A CPU backend with only Linux binaries|"
   ]
  },
  {
   "cell_type": "markdown",
   "metadata": {},
   "source": [
    "All the tutorial notebooks will rely on the CPU package, since that takes up the least amount of disk space and works everywhere. If you have access to a CUDA processor, replace the package name with the applicable Windows or Linux package."
   ]
  },
  {
   "cell_type": "code",
   "execution_count": null,
   "metadata": {
    "dotnet_interactive": {
     "language": "fsharp"
    }
   },
   "outputs": [],
   "source": [
    "#r \"nuget:TorchSharp-cpu\""
   ]
  },
  {
   "cell_type": "markdown",
   "metadata": {
    "dotnet_interactive": {
     "language": "csharp"
    }
   },
   "source": [
    "# Opening\n",
    "\n",
    "Once you have the right NuGet packages, the next thing is to get the right open directives at the top of your source files. TorchSharp consists of a lot of namespaces and static classes, and to make programming TorchSharp convenient, you usually need to include a several of them."
   ]
  },
  {
   "cell_type": "code",
   "execution_count": null,
   "metadata": {
    "dotnet_interactive": {
     "language": "fsharp"
    }
   },
   "outputs": [],
   "source": [
    "open TorchSharp\n",
    "\n",
    "open type TorchSharp.torch\n",
    "open type TorchSharp.torch.nn\n",
    "open type TorchSharp.torch.nn.functional\n",
    "open type TorchSharp.TensorExtensionMethods"
   ]
  }
 ],
 "metadata": {
  "kernelspec": {
   "display_name": ".NET (C#)",
   "language": "C#",
   "name": ".net-csharp"
  },
  "language_info": {
   "file_extension": ".cs",
   "mimetype": "text/x-csharp",
   "name": "C#",
   "pygments_lexer": "csharp",
   "version": "9.0"
  },
  "orig_nbformat": 4
 },
 "nbformat": 4,
 "nbformat_minor": 2
}
